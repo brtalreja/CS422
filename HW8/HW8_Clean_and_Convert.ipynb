{
 "cells": [
  {
   "cell_type": "code",
   "execution_count": 1,
   "metadata": {},
   "outputs": [],
   "source": [
    "import pandas as pd"
   ]
  },
  {
   "cell_type": "code",
   "execution_count": 2,
   "metadata": {},
   "outputs": [],
   "source": [
    "with open('file19.txt', 'r') as f:\n",
    "    #read the file as a whole using readlines()\n",
    "    file = f.readlines()\n",
    "    \n",
    "    #initiate number of rows and columns as 0.\n",
    "    row = 0\n",
    "    col = 0\n",
    "    \n",
    "    #This is for the header row which consists of columns names.\n",
    "    header = \"\"\n",
    "    \n",
    "    col_header = []\n",
    "    data_dict = {}\n",
    "    final_data = []\n",
    "    \n",
    "    #Since we encounter different lines, we use only the required rows and continue on the not required lines.\n",
    "    for line in file:\n",
    "        #As read.lines() read the whole file, it introduces the next line as \\n, we replace the \\n as empty string.\n",
    "        line = line.replace('\\n', '')\n",
    "        \n",
    "        #Initial lines start with # which give information about the dataset. We don't require those, hence we continue on those.\n",
    "        if line.startswith('#'):\n",
    "            continue\n",
    "            \n",
    "        #We want the header row as it has column names.\n",
    "        if not header:\n",
    "            header = line\n",
    "            continue\n",
    "        #After the # lines, header row, we have the row which tells about the number of rows in the dataset.\n",
    "        elif not row:\n",
    "            row = line\n",
    "            continue\n",
    "        #After the # lines, header row, we have the row which tells about the number of columns in the dataset.\n",
    "        elif not col:\n",
    "            col = line\n",
    "            continue\n",
    "        #After all these rows, we have the data rows, which start with \".\n",
    "        elif not col_header:\n",
    "            col_data = line.replace('\"', '') #replace the \" with empty string.\n",
    "            col_data = col_data.split(' ') #splitting the data of columns using space as delimiter. \n",
    "            while '' in col_data:\n",
    "                col_data.remove('')\n",
    "            col_header = col_data\n",
    "            continue\n",
    "            \n",
    "        #We have now the data, but that is not final.\n",
    "        temp_data = line.replace('\"', '')\n",
    "        \n",
    "        #We store the index of data in the data_index.\n",
    "        for i, j in enumerate(temp_data):\n",
    "            if j.isdigit():\n",
    "                data_index = i\n",
    "                break\n",
    "                \n",
    "        #In the below transformations, we join the animal name and its identifying information by using the extend function.\n",
    "        data = [' '.join(temp_data[:data_index].split(' ')).strip()]\n",
    "        temp_data = temp_data[data_index:]\n",
    "        temp_data = temp_data.split(' ')\n",
    "        temp_data = [int(i) for i in temp_data]\n",
    "        data.extend(temp_data)\n",
    "        \n",
    "        #Finally, we store the data to convert as a csv in a list of dictionary data.\n",
    "        for i in range(len(col_header)):\n",
    "            data_dict[col_header[i]] = data[i]\n",
    "        final_data.append(data_dict)\n",
    "        data_dict = {}"
   ]
  },
  {
   "cell_type": "code",
   "execution_count": 3,
   "metadata": {},
   "outputs": [],
   "source": [
    "#Create a new clean text file which has only the required information.\n",
    "with open('file19_clean.txt', 'w') as f:\n",
    "    f.write(','.join(col_header) + '\\n')\n",
    "    for line in final_data:\n",
    "        f.write(','.join(str(i) for i in line.values()) + '\\n')"
   ]
  },
  {
   "cell_type": "code",
   "execution_count": 4,
   "metadata": {},
   "outputs": [],
   "source": [
    "read_file = pd.read_csv('file19_clean.txt')\n",
    "read_file.to_csv('file19.csv')"
   ]
  }
 ],
 "metadata": {
  "kernelspec": {
   "display_name": "Python 3",
   "language": "python",
   "name": "python3"
  },
  "language_info": {
   "codemirror_mode": {
    "name": "ipython",
    "version": 3
   },
   "file_extension": ".py",
   "mimetype": "text/x-python",
   "name": "python",
   "nbconvert_exporter": "python",
   "pygments_lexer": "ipython3",
   "version": "3.7.6"
  }
 },
 "nbformat": 4,
 "nbformat_minor": 4
}
